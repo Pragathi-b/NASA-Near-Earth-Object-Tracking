{
  "nbformat": 4,
  "nbformat_minor": 0,
  "metadata": {
    "colab": {
      "provenance": []
    },
    "kernelspec": {
      "name": "python3",
      "display_name": "Python 3"
    },
    "language_info": {
      "name": "python"
    }
  },
  "cells": [
    {
      "cell_type": "code",
      "source": [
        "!pip install streamlit streamlit_option_menu"
      ],
      "metadata": {
        "colab": {
          "base_uri": "https://localhost:8080/"
        },
        "id": "lUvDFvZZe_Rz",
        "outputId": "1c108b4b-e511-443c-c9e3-acd2ffb0ea38"
      },
      "execution_count": 1,
      "outputs": [
        {
          "output_type": "stream",
          "name": "stdout",
          "text": [
            "Requirement already satisfied: streamlit in /usr/local/lib/python3.11/dist-packages (1.46.1)\n",
            "Requirement already satisfied: streamlit_option_menu in /usr/local/lib/python3.11/dist-packages (0.4.0)\n",
            "Requirement already satisfied: altair<6,>=4.0 in /usr/local/lib/python3.11/dist-packages (from streamlit) (5.5.0)\n",
            "Requirement already satisfied: blinker<2,>=1.5.0 in /usr/local/lib/python3.11/dist-packages (from streamlit) (1.9.0)\n",
            "Requirement already satisfied: cachetools<7,>=4.0 in /usr/local/lib/python3.11/dist-packages (from streamlit) (5.5.2)\n",
            "Requirement already satisfied: click<9,>=7.0 in /usr/local/lib/python3.11/dist-packages (from streamlit) (8.2.1)\n",
            "Requirement already satisfied: numpy<3,>=1.23 in /usr/local/lib/python3.11/dist-packages (from streamlit) (2.0.2)\n",
            "Requirement already satisfied: packaging<26,>=20 in /usr/local/lib/python3.11/dist-packages (from streamlit) (24.2)\n",
            "Requirement already satisfied: pandas<3,>=1.4.0 in /usr/local/lib/python3.11/dist-packages (from streamlit) (2.2.2)\n",
            "Requirement already satisfied: pillow<12,>=7.1.0 in /usr/local/lib/python3.11/dist-packages (from streamlit) (11.2.1)\n",
            "Requirement already satisfied: protobuf<7,>=3.20 in /usr/local/lib/python3.11/dist-packages (from streamlit) (5.29.5)\n",
            "Requirement already satisfied: pyarrow>=7.0 in /usr/local/lib/python3.11/dist-packages (from streamlit) (18.1.0)\n",
            "Requirement already satisfied: requests<3,>=2.27 in /usr/local/lib/python3.11/dist-packages (from streamlit) (2.32.3)\n",
            "Requirement already satisfied: tenacity<10,>=8.1.0 in /usr/local/lib/python3.11/dist-packages (from streamlit) (8.5.0)\n",
            "Requirement already satisfied: toml<2,>=0.10.1 in /usr/local/lib/python3.11/dist-packages (from streamlit) (0.10.2)\n",
            "Requirement already satisfied: typing-extensions<5,>=4.4.0 in /usr/local/lib/python3.11/dist-packages (from streamlit) (4.14.0)\n",
            "Requirement already satisfied: watchdog<7,>=2.1.5 in /usr/local/lib/python3.11/dist-packages (from streamlit) (6.0.0)\n",
            "Requirement already satisfied: gitpython!=3.1.19,<4,>=3.0.7 in /usr/local/lib/python3.11/dist-packages (from streamlit) (3.1.44)\n",
            "Requirement already satisfied: pydeck<1,>=0.8.0b4 in /usr/local/lib/python3.11/dist-packages (from streamlit) (0.9.1)\n",
            "Requirement already satisfied: tornado!=6.5.0,<7,>=6.0.3 in /usr/local/lib/python3.11/dist-packages (from streamlit) (6.4.2)\n",
            "Requirement already satisfied: jinja2 in /usr/local/lib/python3.11/dist-packages (from altair<6,>=4.0->streamlit) (3.1.6)\n",
            "Requirement already satisfied: jsonschema>=3.0 in /usr/local/lib/python3.11/dist-packages (from altair<6,>=4.0->streamlit) (4.24.0)\n",
            "Requirement already satisfied: narwhals>=1.14.2 in /usr/local/lib/python3.11/dist-packages (from altair<6,>=4.0->streamlit) (1.45.0)\n",
            "Requirement already satisfied: gitdb<5,>=4.0.1 in /usr/local/lib/python3.11/dist-packages (from gitpython!=3.1.19,<4,>=3.0.7->streamlit) (4.0.12)\n",
            "Requirement already satisfied: python-dateutil>=2.8.2 in /usr/local/lib/python3.11/dist-packages (from pandas<3,>=1.4.0->streamlit) (2.9.0.post0)\n",
            "Requirement already satisfied: pytz>=2020.1 in /usr/local/lib/python3.11/dist-packages (from pandas<3,>=1.4.0->streamlit) (2025.2)\n",
            "Requirement already satisfied: tzdata>=2022.7 in /usr/local/lib/python3.11/dist-packages (from pandas<3,>=1.4.0->streamlit) (2025.2)\n",
            "Requirement already satisfied: charset-normalizer<4,>=2 in /usr/local/lib/python3.11/dist-packages (from requests<3,>=2.27->streamlit) (3.4.2)\n",
            "Requirement already satisfied: idna<4,>=2.5 in /usr/local/lib/python3.11/dist-packages (from requests<3,>=2.27->streamlit) (3.10)\n",
            "Requirement already satisfied: urllib3<3,>=1.21.1 in /usr/local/lib/python3.11/dist-packages (from requests<3,>=2.27->streamlit) (2.4.0)\n",
            "Requirement already satisfied: certifi>=2017.4.17 in /usr/local/lib/python3.11/dist-packages (from requests<3,>=2.27->streamlit) (2025.6.15)\n",
            "Requirement already satisfied: smmap<6,>=3.0.1 in /usr/local/lib/python3.11/dist-packages (from gitdb<5,>=4.0.1->gitpython!=3.1.19,<4,>=3.0.7->streamlit) (5.0.2)\n",
            "Requirement already satisfied: MarkupSafe>=2.0 in /usr/local/lib/python3.11/dist-packages (from jinja2->altair<6,>=4.0->streamlit) (3.0.2)\n",
            "Requirement already satisfied: attrs>=22.2.0 in /usr/local/lib/python3.11/dist-packages (from jsonschema>=3.0->altair<6,>=4.0->streamlit) (25.3.0)\n",
            "Requirement already satisfied: jsonschema-specifications>=2023.03.6 in /usr/local/lib/python3.11/dist-packages (from jsonschema>=3.0->altair<6,>=4.0->streamlit) (2025.4.1)\n",
            "Requirement already satisfied: referencing>=0.28.4 in /usr/local/lib/python3.11/dist-packages (from jsonschema>=3.0->altair<6,>=4.0->streamlit) (0.36.2)\n",
            "Requirement already satisfied: rpds-py>=0.7.1 in /usr/local/lib/python3.11/dist-packages (from jsonschema>=3.0->altair<6,>=4.0->streamlit) (0.26.0)\n",
            "Requirement already satisfied: six>=1.5 in /usr/local/lib/python3.11/dist-packages (from python-dateutil>=2.8.2->pandas<3,>=1.4.0->streamlit) (1.17.0)\n"
          ]
        }
      ]
    },
    {
      "cell_type": "code",
      "execution_count": 2,
      "metadata": {
        "id": "z1Ctq_Dld1rC"
      },
      "outputs": [],
      "source": [
        "API_Key = \"NZuKNoxEadqDrXu1uaGhrO0FD0b8RTErPk4r42Ra\"\n",
        "\n",
        "import requests\n",
        "\n",
        "url = f\"https://api.nasa.gov/neo/rest/v1/feed?start_date=2024-01-01&end_date=2024-01-08&api_key={API_Key}\"\n",
        "\n",
        "response = requests.get(url)\n",
        "\n",
        "data = response.json()\n",
        "\n",
        "details = data[\"near_earth_objects\"]\n",
        "\n",
        "asteroids_data = []\n",
        "target = 10000\n",
        "\n",
        "url = f\"https://api.nasa.gov/neo/rest/v1/feed?start_date=2024-01-01&end_date=2024-01-08&api_key={API_Key}\"\n",
        "\n",
        "while len(asteroids_data) < target:\n",
        "    response = requests.get(url)\n",
        "    data = response.json()\n",
        "    details = data[\"near_earth_objects\"]\n",
        "    for date, asteroids in details.items():\n",
        "        for asteroid in asteroids:\n",
        "            asteroids_data.append(dict(id= asteroid['id'],\n",
        "                                   neo_reference_id= asteroid['neo_reference_id'],\n",
        "                                   name= asteroid['name'],\n",
        "                                   absolute_magnitude_h= asteroid['absolute_magnitude_h'],\n",
        "                                   estimated_diameter_min_km= asteroid['estimated_diameter']['kilometers']['estimated_diameter_min'],\n",
        "                                   estimated_diameter_max_km= asteroid['estimated_diameter']['kilometers']['estimated_diameter_max'],\n",
        "                                   is_potentially_hazardous_asteroid= asteroid['is_potentially_hazardous_asteroid'],\n",
        "                                   close_approach_date= asteroid['close_approach_data'][0]['close_approach_date'],\n",
        "                                   relative_velocity_kmph= float(asteroid['close_approach_data'][0]['relative_velocity']['kilometers_per_hour']),\n",
        "                                   astronomical= float(asteroid['close_approach_data'][0]['miss_distance']['astronomical']),\n",
        "                                   miss_distance_km= float(asteroid['close_approach_data'][0]['miss_distance']['kilometers']),\n",
        "                                   miss_distance_lunar= float(asteroid['close_approach_data'][0]['miss_distance']['lunar']),\n",
        "                                   orbiting_body= asteroid['close_approach_data'][0]['orbiting_body']))\n",
        "            if len(asteroids_data) >= target:\n",
        "                break  # Break the inner loop once the target is reached\n",
        "        if len(asteroids_data) >= target:\n",
        "            break # Break the outer loop once the target is reached\n",
        "    if len(asteroids_data) >= target:\n",
        "            break # Break the while loop once the target is reached\n",
        "    url = data['links']['next']\n",
        "\n",
        "from datetime import datetime\n",
        "for obj in asteroids_data:\n",
        "    # Convert date string to datetime.date\n",
        "    obj['close_approach_date'] = datetime.strptime(obj['close_approach_date'], \"%Y-%m-%d\").date()\n",
        "\n",
        "import sqlite3\n",
        "\n",
        "# Connect to a database file (creates it if it doesn't exist)\n",
        "conn = sqlite3.connect('NASA_NEO_track')\n",
        "\n",
        "cursor = conn.cursor()\n",
        "\n",
        "import pandas as pd\n",
        "cursor.execute('''CREATE TABLE Asteroids(\n",
        "    id INT,\n",
        "    name TEXT,\n",
        "    absolute_magnitude_h FLOAT,\n",
        "    estimated_diameter_min_km FLOAT,\n",
        "    estimated_diameter_max_km FLOAT,\n",
        "    is_potentially_hazardous_asteroid BOOLEAN\n",
        ")''')\n",
        "cursor.execute('''CREATE TABLE Close_approach(\n",
        "    neo_reference_id INT,\n",
        "    close_approach_date DATE,\n",
        "    relative_velocity_kmph FLOAT,\n",
        "    astronomical FLOAT,\n",
        "    miss_distance_km FLOAT,\n",
        "    miss_distance_lunar FLOAT,\n",
        "    orbiting_body VARCHAR\n",
        ")''')\n",
        "for obj in asteroids_data:\n",
        "  cursor.execute('''INSERT INTO Asteroids(id,\n",
        "                                          name,\n",
        "                                          absolute_magnitude_h,\n",
        "                                          estimated_diameter_min_km,\n",
        "                                          estimated_diameter_max_km,\n",
        "                                          is_potentially_hazardous_asteroid)\n",
        "  VALUES(?, ?, ?, ?, ?, ?)''',(obj['id'],\n",
        "                               obj['name'],\n",
        "                               obj['absolute_magnitude_h'],\n",
        "                               obj['estimated_diameter_min_km'],\n",
        "                               obj['estimated_diameter_max_km'],\n",
        "                               obj['is_potentially_hazardous_asteroid']))\n",
        "\n",
        "  cursor.execute('''INSERT INTO Close_approach(neo_reference_id,\n",
        "                                              close_approach_date,\n",
        "                                              relative_velocity_kmph,\n",
        "                                              astronomical,\n",
        "                                              miss_distance_km,\n",
        "                                              miss_distance_lunar,\n",
        "                                              orbiting_body)\n",
        "  VALUES(?, ?, ?, ?, ?, ?, ?)''',(obj['neo_reference_id'],\n",
        "                                  obj['close_approach_date'],\n",
        "                                  obj['relative_velocity_kmph'],\n",
        "                                  obj['astronomical'],\n",
        "                                  obj['miss_distance_km'],\n",
        "                                  obj['miss_distance_lunar'],\n",
        "                                  obj['orbiting_body']))\n",
        "\n",
        "conn.commit()"
      ]
    },
    {
      "cell_type": "code",
      "source": [
        "%%writefile neo_dashboard.py"
      ],
      "metadata": {
        "colab": {
          "base_uri": "https://localhost:8080/"
        },
        "id": "tKlDCffVgqw4",
        "outputId": "33eebfc3-b5ec-4685-b1b8-93832967c090"
      },
      "execution_count": 45,
      "outputs": [
        {
          "output_type": "stream",
          "name": "stdout",
          "text": [
            "Overwriting neo_dashboard3.py\n"
          ]
        }
      ]
    },
    {
      "cell_type": "code",
      "source": [
        "%%writefile neo_dashboard.py\n",
        "\n",
        "import streamlit as st\n",
        "import pandas as pd\n",
        "import sqlite3\n",
        "\n",
        "\n",
        "st.set_page_config(layout=\"wide\", page_title=\"NASA NEO Explorer\")\n",
        "st.title(\"🌌 NASA Near Earth Object Dashboard\")\n",
        "\n",
        "\n",
        "conn = sqlite3.connect(\"NASA_NEO_track\")\n",
        "\n",
        "\n",
        "st.sidebar.header(\"📚 Predefined SQL Queries\")\n",
        "\n",
        "query_dict = {\n",
        "    \"1. Count how many times each asteroid has approached Earth\": \"SELECT neo_reference_id, COUNT(*) AS Approach_count FROM close_approach GROUP BY neo_reference_id ORDER BY Approach_count DESC\",\n",
        "    \"2. Average velocity of each asteroid over multiple approaches\": \"SELECT ca.neo_reference_id, a.name, ROUND(AVG(ca.relative_velocity_kmph), 2) AS avg_velocity_kmph FROM close_approach ca JOIN asteroids a ON ca.neo_reference_id = a.id GROUP BY ca.neo_reference_id ORDER BY avg_velocity_kmph DESC\",\n",
        "    \"3. Top 10 Fastest Asteroids\": \"SELECT ca.neo_reference_id, a.name, MAX(ca.relative_velocity_kmph) AS max_velocity_kmph FROM close_approach ca JOIN asteroids a ON ca.neo_reference_id = a.id GROUP BY ca.neo_reference_id ORDER BY max_velocity_kmph DESC LIMIT 10\",\n",
        "    \"4. Potentially hazardous asteroids that have approached Earth more than 3 times\": \"SELECT a.name, COUNT(*) AS approach_count FROM close_approach ca JOIN asteroids a ON ca.neo_reference_id = a.id WHERE a.is_potentially_hazardous_asteroid = 1 GROUP BY ca.neo_reference_id HAVING approach_count > 3\",\n",
        "    \"5. Month with the most asteroid approaches\": \"SELECT strftime('%Y-%m', close_approach_date) AS month, COUNT(*) AS total_approaches FROM close_approach GROUP BY month ORDER BY total_approaches DESC LIMIT 1\",\n",
        "    \"6. Asteroid with the fastest ever approach speed\": \"SELECT a.name, ca.relative_velocity_kmph, ca.close_approach_date FROM close_approach ca JOIN asteroids a ON ca.neo_reference_id = a.id ORDER BY ca.relative_velocity_kmph DESC LIMIT 1\",\n",
        "    \"7. Sort asteroids by maximum estimated diameter\": \"SELECT name, estimated_diameter_max_km FROM asteroids ORDER BY estimated_diameter_max_km DESC LIMIT 10\",\n",
        "    \"8. An asteroid whose closest approach is getting nearer over time\": \"SELECT a.name, c.close_approach_date, MIN(c.miss_distance_km) AS min_distance FROM close_approach c JOIN asteroids a ON a.id = c.neo_reference_id GROUP BY a.id ORDER BY min_distance ASC\",\n",
        "    \"9. Display the name of each asteroid along with the date and miss distance of its closest approach to Earth\": \"SELECT a.name, c.close_approach_date, c.miss_distance_km FROM asteroids a JOIN close_approach c ON a.id = c.neo_reference_id ORDER BY c.miss_distance_km ASC\",\n",
        "    \"10. List names of asteroids that approached Earth with velocity > 50,000 km/h\": \"SELECT a.name, c.relative_velocity_kmph FROM asteroids a JOIN close_approach c ON a.id = c.neo_reference_id WHERE c.relative_velocity_kmph > 50000 ORDER BY c.relative_velocity_kmph DESC\",\n",
        "    \"11. Count how many approaches happened per month\": \"SELECT strftime('%Y-%m', close_approach_date) AS month, COUNT(*) AS count FROM close_approach GROUP BY month ORDER BY month\",\n",
        "    \"12. Find asteroid with the highest brightness (lowest magnitude value)\": \"SELECT name, absolute_magnitude_h FROM asteroids ORDER BY absolute_magnitude_h ASC LIMIT 1\",\n",
        "    \"13. Get number of hazardous vs non-hazardous asteroids\": \"SELECT is_potentially_hazardous_asteroid AS hazardous, COUNT(*) FROM asteroids GROUP BY is_potentially_hazardous_asteroid\",\n",
        "    \"14. Approaches <1 Lunar Distance\": \"SELECT a.name, c.close_approach_date, c.miss_distance_lunar FROM asteroids a JOIN close_approach c ON a.id = c.neo_reference_id WHERE c.miss_distance_lunar < 1 ORDER BY c.miss_distance_lunar ASC\",\n",
        "    \"15. Approaches <0.05 AU\": \"SELECT a.name, c.close_approach_date, c.astronomical FROM asteroids a JOIN close_approach c ON a.id = c.neo_reference_id WHERE c.astronomical < 0.05 ORDER BY c.astronomical ASC\",\n",
        "    \"16. Asteroids with Multiple Approaches\": \"SELECT a.name, COUNT(*) AS approach_count FROM asteroids a JOIN close_approach c ON a.id = c.neo_reference_id GROUP BY a.id HAVING approach_count > 1 ORDER BY approach_count DESC\",\n",
        "    \"16. Top 10 Largest Asteroids (by estimated max diameter)\": \"SELECT name, estimated_diameter_max_km FROM asteroids ORDER BY estimated_diameter_max_km DESC LIMIT 10\",\n",
        "    \"17. Closest approach per asteroid (their nearest pass)\": \"SELECT a.name, MIN(c.close_approach_date) AS closest_approach FROM asteroids a JOIN close_approach c ON a.id = c.neo_reference_id GROUP BY a.id ORDER BY closest_approach ASC\",\n",
        "    \"18.  Monthly trend of potentially hazardous approaches\": \"SELECT strftime('%Y-%m', c.close_approach_date) AS month, COUNT(*) AS hazardous_approaches FROM asteroids a JOIN close_approach c ON a.id = c.neo_reference_id WHERE a.is_potentially_hazardous_asteroid = 1 GROUP BY month ORDER BY month\",\n",
        "    \"19. Asteroids that have multiple close approaches\": \"SELECT a.name, COUNT(*) AS approach_count FROM asteroids a JOIN close_approach c ON a.id = c.neo_reference_id GROUP BY a.id HAVING approach_count > 1 ORDER BY approach_count DESC\",\n",
        "    \"20. Fastest 5 Asteroids during approach\": \"SELECT a.name, c.relative_velocity_kmph FROM asteroids a JOIN close_approach c ON a.id = c.neo_reference_id ORDER BY c.relative_velocity_kmph DESC LIMIT 5\"\n",
        "}\n",
        "\n",
        "selected_query = st.sidebar.selectbox(\"Choose a Query\", list(query_dict.keys()))\n",
        "if selected_query:\n",
        "    st.subheader(f\"📊 Result: {selected_query}\")\n",
        "    df_query = pd.read_sql_query(query_dict[selected_query], conn)\n",
        "    st.dataframe(df_query, use_container_width=True)\n",
        "\n",
        "\n",
        "st.header(\"🎛️ Custom Filtered View\")\n",
        "\n",
        "\n",
        "min_date = pd.read_sql_query(\"SELECT MIN(close_approach_date) FROM close_approach\", conn).iloc[0, 0]\n",
        "max_date = pd.read_sql_query(\"SELECT MAX(close_approach_date) FROM close_approach\", conn).iloc[0, 0]\n",
        "\n",
        "col1, col2 = st.columns(2)\n",
        "with col1:\n",
        "    date_range = st.date_input(\"📅 Close Approach Date\", [pd.to_datetime(min_date), pd.to_datetime(max_date)])\n",
        "    au_range = st.slider(\"🌍 Astronomical Distance (AU)\", 0.0, 1.0, (0.0, 0.5))\n",
        "    ld_range = st.slider(\"🌕 Lunar Distance\", 0.0, 100.0, (0.0, 10.0))\n",
        "with col2:\n",
        "    velocity_range = st.slider(\"🚀 Relative Velocity (km/h)\", 0, 150000, (0, 80000))\n",
        "    diameter_range = st.slider(\"📏 Estimated Diameter (km)\", 0.0, 5.0, (0.0, 2.0))\n",
        "    hazardous_state = st.selectbox(\"☠️ Hazardous?\", (\"All\", \"Hazardous Only\", \"Non-Hazardous\"))\n",
        "\n",
        "# Construct dynamic SQL\n",
        "query = f\"\"\"\n",
        "    SELECT a.name, c.close_approach_date, c.relative_velocity_kmph,\n",
        "           c.miss_distance_km, c.miss_distance_lunar, c.astronomical,\n",
        "           a.estimated_diameter_min_km, a.estimated_diameter_max_km,\n",
        "           a.is_potentially_hazardous_asteroid\n",
        "    FROM asteroids a\n",
        "    JOIN close_approach c ON a.id = c.neo_reference_id\n",
        "    WHERE c.close_approach_date BETWEEN '{date_range[0]}' AND '{date_range[1]}'\n",
        "      AND c.astronomical BETWEEN {au_range[0]} AND {au_range[1]}\n",
        "      AND c.miss_distance_lunar BETWEEN {ld_range[0]} AND {ld_range[1]}\n",
        "      AND c.relative_velocity_kmph BETWEEN {velocity_range[0]} AND {velocity_range[1]}\n",
        "      AND a.estimated_diameter_max_km BETWEEN {diameter_range[0]} AND {diameter_range[1]}\n",
        "\"\"\"\n",
        "\n",
        "if hazardous_state == \"Hazardous Only\":\n",
        "    query += \" AND a.is_potentially_hazardous_asteroid = 1\"\n",
        "elif hazardous_state == \"Non-Hazardous\":\n",
        "    query += \" AND a.is_potentially_hazardous_asteroid = 0\"\n",
        "\n",
        "query += \" ORDER BY c.relative_velocity_kmph DESC LIMIT 500\"\n",
        "\n",
        "st.markdown(\"### 📋 Filtered Results\")\n",
        "filtered_df = pd.read_sql_query(query, conn)\n",
        "st.dataframe(filtered_df, use_container_width=True)\n"
      ],
      "metadata": {
        "colab": {
          "base_uri": "https://localhost:8080/"
        },
        "id": "W6GdNuSpAVaK",
        "outputId": "e7a52a7a-9ec6-4b78-9828-51199a91b5d5"
      },
      "execution_count": 57,
      "outputs": [
        {
          "output_type": "stream",
          "name": "stdout",
          "text": [
            "Overwriting neo_dashboard.py\n"
          ]
        }
      ]
    },
    {
      "cell_type": "code",
      "source": [
        "!wget -q -O - ipv4.icanhazip.com"
      ],
      "metadata": {
        "colab": {
          "base_uri": "https://localhost:8080/"
        },
        "id": "EASugwAc6lYw",
        "outputId": "43048a13-0598-48f6-c6bc-798e17ea94e7"
      },
      "execution_count": 40,
      "outputs": [
        {
          "output_type": "stream",
          "name": "stdout",
          "text": [
            "34.75.36.78\n"
          ]
        }
      ]
    },
    {
      "cell_type": "code",
      "metadata": {
        "colab": {
          "base_uri": "https://localhost:8080/"
        },
        "id": "98e26e20",
        "outputId": "e84d07ac-a9ee-4bc2-86da-47d15ad05095"
      },
      "source": [
        "!streamlit run neo_dashboard.py & npx localtunnel --port 8501"
      ],
      "execution_count": null,
      "outputs": [
        {
          "output_type": "stream",
          "name": "stdout",
          "text": [
            "\n",
            "Collecting usage statistics. To deactivate, set browser.gatherUsageStats to false.\n",
            "\u001b[0m\n",
            "\u001b[1G\u001b[0K⠙\u001b[1G\u001b[0K⠹\u001b[1G\u001b[0K⠸\u001b[0m\n",
            "\u001b[34m\u001b[1m  You can now view your Streamlit app in your browser.\u001b[0m\n",
            "\u001b[0m\n",
            "\u001b[34m  Local URL: \u001b[0m\u001b[1mhttp://localhost:8501\u001b[0m\n",
            "\u001b[34m  Network URL: \u001b[0m\u001b[1mhttp://172.28.0.12:8501\u001b[0m\n",
            "\u001b[34m  External URL: \u001b[0m\u001b[1mhttp://34.75.36.78:8501\u001b[0m\n",
            "\u001b[0m\n",
            "\u001b[1G\u001b[0K⠼\u001b[1G\u001b[0K⠴\u001b[1G\u001b[0K⠦\u001b[1G\u001b[0K⠧\u001b[1G\u001b[0K⠇\u001b[1G\u001b[0K⠏\u001b[1G\u001b[0K⠋\u001b[1G\u001b[0K⠙\u001b[1G\u001b[0Kyour url is: https://big-pumas-rescue.loca.lt\n",
            "/root/.npm/_npx/75ac80b86e83d4a2/node_modules/localtunnel/bin/lt.js:81\n",
            "    throw err;\n",
            "    ^\n",
            "\n",
            "Error: connection refused: localtunnel.me:26907 (check your firewall settings)\n",
            "    at Socket.<anonymous> (/root/.npm/_npx/75ac80b86e83d4a2/node_modules/\u001b[4mlocaltunnel\u001b[24m/lib/TunnelCluster.js:52:11)\n",
            "\u001b[90m    at Socket.emit (node:events:524:28)\u001b[39m\n",
            "\u001b[90m    at emitErrorNT (node:internal/streams/destroy:169:8)\u001b[39m\n",
            "\u001b[90m    at emitErrorCloseNT (node:internal/streams/destroy:128:3)\u001b[39m\n",
            "\u001b[90m    at process.processTicksAndRejections (node:internal/process/task_queues:82:21)\u001b[39m\n",
            "\n",
            "Node.js v20.19.0\n",
            "\u001b[1G\u001b[0K⠙\u001b[1G\u001b[0K"
          ]
        }
      ]
    }
  ]
}